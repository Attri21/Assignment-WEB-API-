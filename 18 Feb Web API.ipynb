{
 "cells": [
  {
   "cell_type": "raw",
   "id": "5505aff0-05cf-49fb-b5cc-501136d34423",
   "metadata": {},
   "source": [
    "ANS-1 APIs are mechanisms that enable two software components to communicate with each other using a set of definations and protocol.It is a type of software interface , offering a service to other pieces of software. A document or standard that describes how to build or use such a connection or interface is called an API specification.For example-The weather bureau's software contains daily weather data.The weather app on your phone \"talks\" to this system via APIs and shows you daily weather updates on your phone.\n",
    "API used in real life - APIs are used to deliver material by streaming services such as Spotify and Netflix. APIs are used by automakers such as tesla to provide software upgrades."
   ]
  },
  {
   "cell_type": "raw",
   "id": "897c9d41-0a09-4f9f-ab57-95ce929c0970",
   "metadata": {},
   "source": [
    "ANS-2 Advantage of API\n",
    "* Increased Interoperability-API solutions enable different software systems to communicate with each other , regardless of their programming language. This enhances the interoperability between systems, allowing for the exchange of data and functionality.\n",
    "*Improved Efficiency: API driven infrastructures enable developers to reuse code and functionality from existing software systems, saving time and reducing the amount of code that needs to be written from scratch.\n",
    "*Better User Experience: APIs can enable third-party developers to create applications that integrate with existing software systems, providing a better user experience and increased functionality."
   ]
  },
  {
   "cell_type": "raw",
   "id": "67996e84-5801-4b91-a37e-ceb24a3f694d",
   "metadata": {},
   "source": [
    "Disadvantage of API\n",
    "* Security Concerns: API infrastructures can be vulnerable to security breaches, such as SQL injection attacks and cross-site scripting (XSS) attacks, making it crucial to implement security measures to protect against these threats.\n",
    "*Complexity: APIs can be complex, requiring a significant amount of development effort to implement and maintain.\n",
    "*Compatibility Issues: APIs can have compatibility issues between different versions of the same software system or between different systems, which can lead to errors and system failures."
   ]
  },
  {
   "cell_type": "raw",
   "id": "dbf1df9b-56d6-4104-a74a-24fb2d96920e",
   "metadata": {},
   "source": [
    "ANS-3 Web API is an extensible framework for building HTTP based services that can be accessed in different applications on different platforms such as web, windows, mobile etc. It works more or less the same way as ASP.NET MVC web application except that it sends data as a response instead of html view. It is like a webservice or WCF service but the exception is that it only supports HTTP protocol. Web API is an ideal platform form for building RESTful services.\n",
    "\n",
    "Differnce-*API is a set of programming code that enables data transmission\n",
    "          *Web API is an open-source framework that is used to write HTTP APIs\n",
    "        \n",
    "          *API contains the term of data exchange\n",
    "          *Web API is a concept not a technology"
   ]
  },
  {
   "cell_type": "raw",
   "id": "95199303-3401-4ca6-815e-b2c9fe832f1a",
   "metadata": {},
   "source": [
    "ANS-4 *REST: (Representational state transfer) is a set of architectural principles attuned to the needs of lightweight web services and mobile applications.When a request for data is sent to a REST API, it’s usually done through hypertext transfer protocol.Once a request is received, APIs designed for REST can return messages in a variety of formats: HTML, XML, plain text, and JSON.JSON (JavaScript object notation) is favored as a message format because it can be read by any programming language , is human- and machine-readable, and is lightweight.RESTful APIs are more flexible and can be easier to set up.\n",
    "\n",
    "*SOAP: (Simple object access protocol)SOAP is a standard protocol that was first designed so that applications built with different languages and on different platforms could communicate.Because it is a protocol, it imposes built-in rules that increase its complexity and overhead, which can lead to longer page load times. However, these standards also offer built-in compliances that can make it preferable for enterprise scenarios. The built-in compliance standards include security, atomicity, consistency, isolation, and durability (ACID), which is a set of properties for ensuring reliable database transactions.\n",
    "\n",
    "*Shortcomings of SOAP\n",
    "API Calls are not Cached\n",
    "An API call is a process of sending a request when an API has been set up with the necessary endpoints. The information is transferred, processed, and feedback is supplied as a result of the process. It is not feasible to cache SOAP API requests.\n",
    "\n",
    "Extremely Complicated\n",
    "SOAP is substantially more sophisticated than REST. It is also less adaptable. For developers who aren't very experienced, this could be a problem. Performance may be slowed as a result of the substantial processing required"
   ]
  },
  {
   "cell_type": "raw",
   "id": "5a94b658-5e56-4ceb-9bfe-622f3134b4f8",
   "metadata": {},
   "source": [
    "Difference between REST and SOAP\n",
    "*SOAP API transports data in standard XML format\n",
    "*REST API transport data in JSON\n",
    "\n",
    "*SOAP API is XML based and relies on soap, it works with WSDL\n",
    "*It works with GET, PUT , POST , DELETE\n",
    "\n",
    "*SOAP API is high structured\n",
    "*REST API is less structured"
   ]
  }
 ],
 "metadata": {
  "kernelspec": {
   "display_name": "Python 3 (ipykernel)",
   "language": "python",
   "name": "python3"
  },
  "language_info": {
   "codemirror_mode": {
    "name": "ipython",
    "version": 3
   },
   "file_extension": ".py",
   "mimetype": "text/x-python",
   "name": "python",
   "nbconvert_exporter": "python",
   "pygments_lexer": "ipython3",
   "version": "3.10.8"
  }
 },
 "nbformat": 4,
 "nbformat_minor": 5
}
